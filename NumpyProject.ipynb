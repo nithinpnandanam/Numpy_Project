{
 "cells": [
  {
   "cell_type": "markdown",
   "id": "c8befbd9",
   "metadata": {},
   "source": [
    "Given file \"terrorismData.csv\"\n",
    "It is an open-source database including information on terrorist attacks around the world from 1970 through 2017. This dataset includes systematic data on domestic as well as international terrorist incidents that have occurred during this time period\n"
   ]
  },
  {
   "cell_type": "markdown",
   "id": "75d5e24d",
   "metadata": {},
   "source": [
    "Problem Statement:\n",
    "Find the number of attack held between day 10 and day 20?(ignoring the year and month)(including both day)"
   ]
  },
  {
   "cell_type": "code",
   "execution_count": 1,
   "id": "1ba9b9f8",
   "metadata": {},
   "outputs": [
    {
     "name": "stdout",
     "output_type": "stream",
     "text": [
      "66330\n"
     ]
    }
   ],
   "source": [
    "import csv\n",
    "import numpy as np\n",
    "with open('terrorismData.csv','r',encoding=\"utf8\") as file_obj:\n",
    "    file_data=csv.DictReader(file_obj)\n",
    "    days=[]\n",
    "    for row in file_data:\n",
    "        days.append(row['Day'])\n",
    "        \n",
    "    np_days=np.array(days)\n",
    "    \n",
    "    np_days=np.array(np_days,dtype=float)\n",
    "    np_days=np.array(np_days,dtype=int)\n",
    "    \n",
    "    np_days=np_days[(np_days>=10) & (np_days<=20)]\n",
    "    \n",
    "    print(np_days.shape[0])"
   ]
  },
  {
   "cell_type": "markdown",
   "id": "b0e23155",
   "metadata": {},
   "source": [
    "Problem Statement :\n",
    "Find the number of attack held between 1 Jan 2010 and 31 Jan 2010?(including both date)."
   ]
  },
  {
   "cell_type": "code",
   "execution_count": 4,
   "id": "b460ba87",
   "metadata": {},
   "outputs": [
    {
     "name": "stdout",
     "output_type": "stream",
     "text": [
      "271\n"
     ]
    }
   ],
   "source": [
    "import csv\n",
    "import numpy as np\n",
    "with open('terrorismData.csv','r',encoding=\"utf8\") as file_obj:\n",
    "    file_data=csv.DictReader(file_obj)\n",
    "    day=[]\n",
    "    for row in file_data:\n",
    "        if ((row['Year']=='2010') & (row['Month']=='1') & (int(row['Day'])>=1) & (int(row['Day'])<=31) ):\n",
    "            day.append(row['Day'])\n",
    "    np_day=np.array(day)\n",
    "    print(np_day.shape[0])"
   ]
  },
  {
   "cell_type": "markdown",
   "id": "d637fdd1",
   "metadata": {},
   "source": [
    "Problem Statement :\n",
    "As we knew the Kargil ( in Jammu and Kashmir) War that took place between May 1999 and July 1999 (3 Months) ,so there was a huge conflict in Kashmir Valley during this period.\n",
    "In this dataset, there is no information regarding the war between the two countries to find out the casualty during the war.\n",
    "So find out the attack in this period in which maximum casualties happened.\n",
    "Print the count of casualties (as integer), city in which that attack happened and name of attack group.\n",
    "Casualty = Killed + Wounded.Fill the empty value in killed or wounded feature to 0."
   ]
  },
  {
   "cell_type": "code",
   "execution_count": 8,
   "id": "22b3bb52",
   "metadata": {},
   "outputs": [
    {
     "name": "stdout",
     "output_type": "stream",
     "text": [
      "22 Kargil District Separatists\n"
     ]
    }
   ],
   "source": [
    "import csv\n",
    "import numpy as np\n",
    "with open('terrorismData.csv','r',encoding=\"utf8\") as file_obj:\n",
    "    file_data=csv.DictReader(file_obj)\n",
    "    killed=[]\n",
    "    wounded=[]\n",
    "    state=[]\n",
    "    city=[]\n",
    "    group=[]\n",
    "    for row in file_data:\n",
    "        if (row['State']=='Jammu and Kashmir') &(row['Year']=='1999') & (int(row['Month'])>=5) & (int(row['Month'])<=7):\n",
    "            killed.append(row['Killed'])\n",
    "            wounded.append(row['Wounded'])\n",
    "            state.append(row['State'])\n",
    "            city.append(row['City'])\n",
    "            group.append(row['Group'])\n",
    "            \n",
    "    np_killed=np.array(killed)\n",
    "    np_wounded=np.array(wounded)\n",
    "    np_state=np.array(state)\n",
    "    np_city=np.array(city)\n",
    "    np_group=np.array(group)\n",
    "    \n",
    "    np_killed[np_killed=='']='0.0'\n",
    "    np_wounded[np_wounded=='']='0.0'\n",
    "    \n",
    "    np_killed=np.array(np_killed,dtype=float)\n",
    "    np_killed=np.array(np_killed,dtype=int)\n",
    "    np_wounded=np.array(np_wounded,dtype=float)\n",
    "    np_wounded=np.array(np_wounded,dtype=int)\n",
    "    \n",
    "    np_casuality=np_killed+np_wounded\n",
    "    print(np_casuality.max(),end=' ')\n",
    "    print(np_city[np_casuality==np_casuality.max()][0],np_group[np_casuality==np_casuality.max()][0])"
   ]
  },
  {
   "cell_type": "markdown",
   "id": "026ad29d",
   "metadata": {},
   "source": [
    "Problem Statement :\n",
    "Find the casualty in the Red Corridor States ? Mainly Red corridor states include Jharkhand, Odisha, Andhra Pradesh, and Chhattisgarh.\n",
    "Note: Casualty=Killed +Wounded\n",
    "Print count of Casualty"
   ]
  },
  {
   "cell_type": "code",
   "execution_count": 5,
   "id": "777fffba",
   "metadata": {},
   "outputs": [
    {
     "name": "stdout",
     "output_type": "stream",
     "text": [
      "5628\n"
     ]
    }
   ],
   "source": [
    "import csv\n",
    "import numpy as np\n",
    "with open('terrorismData.csv','r',encoding=\"utf8\") as file_obj:\n",
    "    file_data=csv.DictReader(file_obj)\n",
    "    killed=[]\n",
    "    wounded=[]\n",
    "    for row in file_data:\n",
    "        if (row['State']=='Odisha')|(row['State']=='Jharkhand')|(row['State']=='Andhra Pradesh')|(row['State']=='Chhattisgarh'):      \n",
    "            killed.append(row['Killed'])\n",
    "            wounded.append(row['Wounded'])   \n",
    "    np_killed=np.array(killed)\n",
    "    np_wounded=np.array(wounded)\n",
    "\n",
    "    np_killed[np_killed=='']='0.0'\n",
    "    np_wounded[np_wounded=='']='0.0'\n",
    "   \n",
    "    np_killed=np.array(np_killed,dtype=float)\n",
    "    np_killed=np.array(np_killed,dtype=int)\n",
    "    np_wounded=np.array(np_wounded,dtype=float)\n",
    "    np_wounded=np.array(np_wounded,dtype=int)\n",
    "    \n",
    "    np_casuality=np_killed+np_wounded\n",
    "    print(np_casuality.sum())\n",
    "    \n",
    "    "
   ]
  },
  {
   "cell_type": "markdown",
   "id": "34561cf4",
   "metadata": {},
   "source": [
    "Problem Statement :\n",
    "Find top 5 Indian Cities which has most number of casualties ?\n",
    "Print top 5 cities along with total casualties in that city.\n",
    "Print count of Casualty as integer value.\n"
   ]
  },
  {
   "cell_type": "code",
   "execution_count": 14,
   "id": "eb323ae3",
   "metadata": {},
   "outputs": [
    {
     "name": "stdout",
     "output_type": "stream",
     "text": [
      "Srinagar 3134\n",
      "New Delhi 2095\n",
      "Mumbai 2016\n",
      "Jammu 1119\n",
      "Guwahati 822\n"
     ]
    }
   ],
   "source": [
    "import csv\n",
    "import numpy as np\n",
    "with open('terrorismData.csv','r',encoding=\"utf8\") as file_obj:\n",
    "    file_data=csv.DictReader(file_obj,skipinitialspace=True)\n",
    "    city=[]\n",
    "    killed=[]\n",
    "    wounded=[]\n",
    "    country=[]\n",
    "    for row in file_data:\n",
    "        city.append(row['City'])\n",
    "        killed.append(row['Killed'])\n",
    "        wounded.append(row['Wounded'])\n",
    "        country.append(row['Country'])\n",
    "        \n",
    "    np_killed=np.array(killed)\n",
    "    np_wounded=np.array(wounded)\n",
    "    np_city=np.array(city)\n",
    "    np_country=np.array(country) \n",
    "    \n",
    "    np_killed[np_killed=='']='0.0'\n",
    "    np_wounded[np_wounded=='']='0.0'\n",
    "    \n",
    "    np_killed=np.array(np_killed,dtype=float)\n",
    "    np_killed=np.array(np_killed,dtype=int)    \n",
    "    np_wounded=np.array(np_wounded,dtype=float)\n",
    "    np_wounded=np.array(np_wounded,dtype=int)\n",
    "    \n",
    "    np_casuality=np_killed+np_wounded\n",
    "    np_casuality=np_casuality[np_country==\"India\"]\n",
    "    np_city=np_city[np_country==\"India\"]\n",
    "    d={}\n",
    "    for i in range(0,len(np_city)):\n",
    "        if np_city[i]=='Unknown':\n",
    "            continue\n",
    "        elif np_city[i] in d:\n",
    "            d[np_city[i]]=d[np_city[i]]+np_casuality[i]\n",
    "        else:\n",
    "            d[np_city[i]]=np_casuality[i]\n",
    "    count=[]\n",
    "    for i in d.values():\n",
    "        count.append(i)\n",
    "    count.sort(reverse=True)\n",
    "    state_li=[]\n",
    "    for i in count[0:5]:\n",
    "        for j in d.keys():\n",
    "            if d[j]==i:\n",
    "                state_li.append(j)\n",
    "                break\n",
    "    a=0\n",
    "    for i in state_li[:]:\n",
    "        for j in count[a:]:\n",
    "            print(i,j)\n",
    "            a=a+1\n",
    "            break"
   ]
  },
  {
   "cell_type": "markdown",
   "id": "53ed63fa",
   "metadata": {},
   "source": [
    "Problem Statement :\n",
    "Find the most frequent day of attack in a terrorismDataset ?\n",
    "Print count of frequent day and number of attacks"
   ]
  },
  {
   "cell_type": "code",
   "execution_count": 22,
   "id": "65bdcf06",
   "metadata": {},
   "outputs": [
    {
     "name": "stdout",
     "output_type": "stream",
     "text": [
      "15 6500\n"
     ]
    }
   ],
   "source": [
    "import csv\n",
    "import numpy as np\n",
    "with open('terrorismData.csv','r',encoding=\"utf8\") as file_obj:\n",
    "    file_data=csv.DictReader(file_obj)\n",
    "    day=[]\n",
    "    for row in file_data:\n",
    "        day.append(row['Day'])\n",
    "    np_day=np.array(day)\n",
    "    value,count=np.unique(np_day,return_counts=True)\n",
    "    a=np.where(count==count.max())\n",
    "    print(value[a][0],count.max())"
   ]
  }
 ],
 "metadata": {
  "kernelspec": {
   "display_name": "Python 3",
   "language": "python",
   "name": "python3"
  },
  "language_info": {
   "codemirror_mode": {
    "name": "ipython",
    "version": 3
   },
   "file_extension": ".py",
   "mimetype": "text/x-python",
   "name": "python",
   "nbconvert_exporter": "python",
   "pygments_lexer": "ipython3",
   "version": "3.8.8"
  }
 },
 "nbformat": 4,
 "nbformat_minor": 5
}
