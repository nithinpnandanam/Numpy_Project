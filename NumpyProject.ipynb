{
 "cells": [
  {
   "cell_type": "markdown",
   "id": "c8befbd9",
   "metadata": {},
   "source": [
    "Given file \"terrorismData.csv\"\n",
    "It is an open-source database including information on terrorist attacks around the world from 1970 through 2017. This dataset includes systematic data on domestic as well as international terrorist incidents that have occurred during this time period\n"
   ]
  },
  {
   "cell_type": "markdown",
   "id": "75d5e24d",
   "metadata": {},
   "source": [
    "Problem Statement:\n",
    "Find the number of attack held between day 10 and day 20?(ignoring the year and month)(including both day)"
   ]
  },
  {
   "cell_type": "code",
   "execution_count": 1,
   "id": "1ba9b9f8",
   "metadata": {},
   "outputs": [
    {
     "name": "stdout",
     "output_type": "stream",
     "text": [
      "66330\n"
     ]
    }
   ],
   "source": [
    "import csv\n",
    "import numpy as np\n",
    "with open('terrorismData.csv','r',encoding=\"utf8\") as file_obj:\n",
    "    file_data=csv.DictReader(file_obj)\n",
    "    days=[]\n",
    "    for row in file_data:\n",
    "        days.append(row['Day'])\n",
    "        \n",
    "    np_days=np.array(days)\n",
    "    \n",
    "    np_days=np.array(np_days,dtype=float)\n",
    "    np_days=np.array(np_days,dtype=int)\n",
    "    \n",
    "    np_days=np_days[(np_days>=10) & (np_days<=20)]\n",
    "    \n",
    "    print(np_days.shape[0])"
   ]
  },
  {
   "cell_type": "markdown",
   "id": "b0e23155",
   "metadata": {},
   "source": [
    "Problem Statement :\n",
    "Find the number of attack held between 1 Jan 2010 and 31 Jan 2010?(including both date)."
   ]
  },
  {
   "cell_type": "code",
   "execution_count": 3,
   "id": "b460ba87",
   "metadata": {},
   "outputs": [
    {
     "name": "stdout",
     "output_type": "stream",
     "text": [
      "271\n"
     ]
    }
   ],
   "source": [
    "import csv\n",
    "import numpy as np\n",
    "with open('terrorismData.csv','r',encoding=\"utf8\") as file_obj:\n",
    "    file_data=csv.DictReader(file_obj)\n",
    "    sums=0\n",
    "    for row in file_data:\n",
    "        if ((row['Year']=='2010') & (row['Month']=='1') & (int(row['Day'])>=1) & (int(row['Day'])<=31) ):\n",
    "            sums=sums+1\n",
    "    print(sums)"
   ]
  },
  {
   "cell_type": "markdown",
   "id": "d637fdd1",
   "metadata": {},
   "source": [
    "Problem Statement :\n",
    "As we knew the Kargil ( in Jammu and Kashmir) War that took place between May 1999 and July 1999 (3 Months) ,so there was a huge conflict in Kashmir Valley during this period.\n",
    "In this dataset, there is no information regarding the war between the two countries to find out the casualty during the war.\n",
    "So find out the attack in this period in which maximum casualties happened.\n",
    "Print the count of casualties (as integer), city in which that attack happened and name of attack group.\n",
    "Casualty = Killed + Wounded.Fill the empty value in killed or wounded feature to 0."
   ]
  },
  {
   "cell_type": "code",
   "execution_count": 4,
   "id": "22b3bb52",
   "metadata": {},
   "outputs": [
    {
     "name": "stdout",
     "output_type": "stream",
     "text": [
      "22 Kargil District Separatists\n"
     ]
    }
   ],
   "source": [
    "import csv\n",
    "import numpy as np\n",
    "with open('terrorismData.csv','r',encoding=\"utf8\") as file_obj:\n",
    "    file_data=csv.DictReader(file_obj)\n",
    "    killed=[]\n",
    "    wounded=[]\n",
    "    state=[]\n",
    "    city=[]\n",
    "    group=[]\n",
    "    for row in file_data:\n",
    "        if (row['State']=='Jammu and Kashmir') &(row['Year']=='1999') & (int(row['Month'])>=5) & (int(row['Month'])<=7):\n",
    "            killed.append(row['Killed'])\n",
    "            wounded.append(row['Wounded'])\n",
    "            state.append(row['State'])\n",
    "            city.append(row['City'])\n",
    "            group.append(row['Group'])\n",
    "            \n",
    "    np_killed=np.array(killed)\n",
    "    np_wounded=np.array(wounded)\n",
    "    np_state=np.array(state)\n",
    "    np_city=np.array(city)\n",
    "    np_group=np.array(group)\n",
    "    \n",
    "    np_killed[np_killed=='']='0.0'\n",
    "    np_wounded[np_wounded=='']='0.0'\n",
    "    \n",
    "    np_killed=np.array(np_killed,dtype=float)\n",
    "    np_killed=np.array(np_killed,dtype=int)\n",
    "    np_wounded=np.array(np_wounded,dtype=float)\n",
    "    np_wounded=np.array(np_wounded,dtype=int)\n",
    "    \n",
    "    np_casuality=np_killed+np_wounded\n",
    "    index = np.where(np_casuality==np_casuality.max())\n",
    "    print(np_casuality.max(),end=' ')\n",
    "    for i in np_city[index]:\n",
    "        print(i,end=' ')\n",
    "    for i in np_group[index]:\n",
    "        print(i)"
   ]
  },
  {
   "cell_type": "markdown",
   "id": "026ad29d",
   "metadata": {},
   "source": [
    "Problem Statement :\n",
    "Find the casualty in the Red Corridor States ? Mainly Red corridor states include Jharkhand, Odisha, Andhra Pradesh, and Chhattisgarh.\n",
    "Note: Casualty=Killed +Wounded\n",
    "Print count of Casualty"
   ]
  },
  {
   "cell_type": "code",
   "execution_count": 5,
   "id": "777fffba",
   "metadata": {},
   "outputs": [
    {
     "name": "stdout",
     "output_type": "stream",
     "text": [
      "5628\n"
     ]
    }
   ],
   "source": [
    "import csv\n",
    "import numpy as np\n",
    "with open('terrorismData.csv','r',encoding=\"utf8\") as file_obj:\n",
    "    file_data=csv.DictReader(file_obj)\n",
    "    killed=[]\n",
    "    wounded=[]\n",
    "    for row in file_data:\n",
    "        if (row['State']=='Odisha')|(row['State']=='Jharkhand')|(row['State']=='Andhra Pradesh')|(row['State']=='Chhattisgarh'):      \n",
    "            killed.append(row['Killed'])\n",
    "            wounded.append(row['Wounded'])   \n",
    "    np_killed=np.array(killed)\n",
    "    np_wounded=np.array(wounded)\n",
    "\n",
    "    np_killed[np_killed=='']='0.0'\n",
    "    np_wounded[np_wounded=='']='0.0'\n",
    "   \n",
    "    np_killed=np.array(np_killed,dtype=float)\n",
    "    np_killed=np.array(np_killed,dtype=int)\n",
    "    np_wounded=np.array(np_wounded,dtype=float)\n",
    "    np_wounded=np.array(np_wounded,dtype=int)\n",
    "    \n",
    "    np_casuality=np_killed+np_wounded\n",
    "    print(np_casuality.sum())\n",
    "    \n",
    "    "
   ]
  },
  {
   "cell_type": "markdown",
   "id": "34561cf4",
   "metadata": {},
   "source": [
    "Problem Statement :\n",
    "Find top 5 Indian Cities which has most number of casualties ?\n",
    "Print top 5 cities along with total casualties in that city.\n",
    "Print count of Casualty as integer value.\n"
   ]
  },
  {
   "cell_type": "code",
   "execution_count": 7,
   "id": "eb323ae3",
   "metadata": {},
   "outputs": [
    {
     "name": "stdout",
     "output_type": "stream",
     "text": [
      "Srinagar 3134\n",
      "New Delhi 2095\n",
      "Mumbai 2016\n",
      "Jammu 1119\n",
      "Guwahati 822\n"
     ]
    }
   ],
   "source": [
    "import csv\n",
    "import numpy as np\n",
    "with open('terrorismData.csv','r',encoding=\"utf8\") as file_obj:\n",
    "    file_data=csv.DictReader(file_obj)\n",
    "    killed=[]\n",
    "    wounded=[]\n",
    "    city=[]\n",
    "    for row in file_data:\n",
    "        if(row['Country']=='India'):\n",
    "            killed.append(row['Killed'])\n",
    "            wounded.append(row['Wounded']) \n",
    "            city.append(row['City'])\n",
    "    np_killed=np.array(killed)\n",
    "    np_wounded=np.array(wounded)\n",
    "    np_city=np.array(city)\n",
    "\n",
    "    np_killed[np_killed=='']='0.0'\n",
    "    np_wounded[np_wounded=='']='0.0'\n",
    "    np_killed=np.array(np_killed,dtype=float)\n",
    "    np_killed=np.array(np_killed,dtype=int)\n",
    "    np_wounded=np.array(np_wounded,dtype=float)\n",
    "    np_wounded=np.array(np_wounded,dtype=int)\n",
    "\n",
    "    np_casuality=np_killed+np_wounded\n",
    "    d={}\n",
    "    for i in range(0,len(np_city)):\n",
    "        d[np_city[i]]=d.get(np_city[i],0)+np_casuality[i]\n",
    "    key=list(d.keys())\n",
    "    val=list(d.values())\n",
    "    val.sort()\n",
    "    count=1\n",
    "    for i in val[-1::-1]:\n",
    "        for j in d:\n",
    "            if (d[j]==i and j!='Unknown'):\n",
    "                if count<=5:\n",
    "                    print(j,i)\n",
    "                    count=count+1\n",
    "                else:\n",
    "                    break"
   ]
  },
  {
   "cell_type": "markdown",
   "id": "53ed63fa",
   "metadata": {},
   "source": [
    "Problem Statement :\n",
    "Find the most frequent day of attack in a terrorismDataset ?\n",
    "Print count of frequent day and number of attacks"
   ]
  },
  {
   "cell_type": "code",
   "execution_count": 6,
   "id": "65bdcf06",
   "metadata": {},
   "outputs": [
    {
     "name": "stdout",
     "output_type": "stream",
     "text": [
      "15 6500\n"
     ]
    }
   ],
   "source": [
    "import csv\n",
    "import numpy as np\n",
    "with open('terrorismData.csv','r',encoding=\"utf8\") as file_obj:\n",
    "    file_data=csv.DictReader(file_obj)\n",
    "    day=[]\n",
    "    for row in file_data:\n",
    "        day.append(row['Day'])\n",
    "    np_day=np.array(day)\n",
    "    value,counts=np.unique(np_day,return_counts=True)\n",
    "    b=counts.max()\n",
    "    index=np.where(counts==b)\n",
    "    print(int(value[index]),b)"
   ]
  },
  {
   "cell_type": "code",
   "execution_count": null,
   "id": "59ffc9c4",
   "metadata": {},
   "outputs": [],
   "source": []
  }
 ],
 "metadata": {
  "kernelspec": {
   "display_name": "Python 3",
   "language": "python",
   "name": "python3"
  },
  "language_info": {
   "codemirror_mode": {
    "name": "ipython",
    "version": 3
   },
   "file_extension": ".py",
   "mimetype": "text/x-python",
   "name": "python",
   "nbconvert_exporter": "python",
   "pygments_lexer": "ipython3",
   "version": "3.8.8"
  }
 },
 "nbformat": 4,
 "nbformat_minor": 5
}